{
 "cells": [
  {
   "cell_type": "code",
   "execution_count": 1,
   "metadata": {
    "collapsed": false
   },
   "outputs": [],
   "source": [
    "# IMPORT LIBRARIES\n",
    "import numpy as np\n",
    "import matplotlib.pyplot as plt"
   ]
  },
  {
   "cell_type": "markdown",
   "metadata": {},
   "source": [
    "<h3>Forward propagation</h3>\n",
    "\n",
    "<p>Let us introduce the concept with an example with $L = 2$ hidden layers.  The input layer is $A0 = X$ and the output layer is $B = A3$.  The hidden layers are $A1$ and $A2$.  We say that this net has $C = 3$ connections.  There are three weight matricies $W10$, $W21$, and $W32$.  There are three bias vectors $b1$, $b2$, and $b3$.</p>\n",
    "\n",
    "\\begin{split}\n",
    "Z1_{mn} &= \\sum_{i=1}^{M0} W10_{mi} A0_{in} + b1_m \\\\\n",
    "A1_{mn} &= g1(Z1_{mn}) \\\\\n",
    "\\\\\n",
    "Z2_{mn} &= \\sum_{i=1}^{M1} W21_{mi} A1_{in} + b2_m \\\\\n",
    "A2_{mn} &= g2(Z2_{mn}) \\\\\n",
    "\\\\\n",
    "Z3_{mn} &= \\sum_{i=1}^{M2} W32_{mi} A2_{in} + b3_m \\\\\n",
    "A3_{mn} &= g3(Z3_{mn}) \\\\\n",
    "\\end{split}\n",
    "\n",
    "<p>Let us vectorize and simplify notation.  The center dot is a matrix product.</p>\n",
    "\n",
    "\\begin{split}\n",
    "\\underbrace{Z1}_{M1 \\times N}\n",
    "&= \\underbrace{W10}_{M1 \\times M0} \\cdot \\underbrace{A0}_{M0 \\times N}\n",
    "+ \\underbrace{b1}_{M1 \\times 1} \\cdot \\underbrace{1}_{1 \\times N} \\\\\n",
    "\\underbrace{A1}_{M1 \\times N}\n",
    "&= g1(\\underbrace{Z1}_{M1 \\times N}) \\\\\n",
    "\\\\\n",
    "\\underbrace{Z2}_{M2 \\times N}\n",
    "&= \\underbrace{W21}_{M2 \\times M1} \\cdot \\underbrace{A1}_{M1 \\times N}\n",
    "+ \\underbrace{b2}_{M2 \\times 1}  \\cdot \\underbrace{1}_{1 \\times N} \\\\\n",
    "\\underbrace{A2}_{M2 \\times N}\n",
    "&= g2(\\underbrace{Z2}_{M2 \\times N}) \\\\\n",
    "\\\\\n",
    "\\underbrace{Z3}_{M3 \\times N}\n",
    "&= \\underbrace{W32}_{M3 \\times M2} \\cdot \\underbrace{A2}_{M2 \\times N}\n",
    "+ \\underbrace{b3}_{M3 \\times 1}  \\cdot \\underbrace{1}_{1 \\times N} \\\\\n",
    "\\underbrace{A3}_{M3 \\times N}\n",
    "&= g3(\\underbrace{Z3}_{M3 \\times N}) \\\\\n",
    "\\end{split}\n"
   ]
  },
  {
   "cell_type": "code",
   "execution_count": 2,
   "metadata": {
    "collapsed": true
   },
   "outputs": [],
   "source": [
    "# matrixes are stored in lists\n",
    "# for C = 3\n",
    "# W = [W10, W21, W32]\n",
    "# b = [b1, b2, b3]\n",
    "def init_weights(C, M):\n",
    "    W = [0]*C\n",
    "    b = [0]*C\n",
    "\n",
    "    for c in range(C):\n",
    "        W[c] = np.random.randn(M[c + 1], M[c])*0.01\n",
    "        b[c] = np.zeros([M[c + 1], 1])\n",
    "    return W, b\n",
    "    \n",
    "\n",
    "# propagate forward\n",
    "def prop_forward(C, g, X, W, b):\n",
    "    A = [X] + [0]*C\n",
    "    Z = [0]*C\n",
    "\n",
    "    for c in range(C):\n",
    "        Z[c] = np.dot(W[c], A[c]) + b[c]\n",
    "        A[c + 1] = g[c](Z[c])\n",
    "    return A, Z"
   ]
  },
  {
   "cell_type": "markdown",
   "metadata": {},
   "source": [
    "<h3>Propagation functions</h3>\n",
    "These functions can take a matrix arguement where the function is applied to each element.\n",
    "The derivative of each function is defined for use with backpropagation.\n",
    "\n",
    "<h4>Sigmoid</h4>\n",
    "This is a popular functon to use with neural nets.  It's non-linear and has on/off properties like a neuron.\n",
    "\n",
    "\\begin{split}\n",
    "\\sigma(Z) &= \\frac{1}{1 + e^{-Z}} \\\\\n",
    "\\frac{\\partial \\sigma(Z)}{\\partial Z}\n",
    "&= \\frac{e^{-Z}}{(1 + e^{-Z})^2} \\\\\n",
    "&= \\sigma(Z)(1 - \\sigma(Z))\n",
    "\\end{split}\n",
    "\n",
    "\n",
    "<h4>Hyperbolic tanh</h4>\n",
    "\n",
    "This is very much like the sigmoid function but centered around zero.\n",
    "Andrew Ng has suggests using this instead of the sigmoid function.\n",
    "One can show that they're basically the same functions with translations and scalings.\n",
    "\n",
    "\\begin{split}\n",
    "\\tanh(Z) &= \\frac{\\sinh(Z)}{\\cosh(Z)} \\\\\n",
    "&= \\frac{e^{Z} - e^{-Z}}{e^{Z} + e^{-Z}}\n",
    " = \\frac{1 - e^{-2 Z}}{1 + e^{-2 Z}}\n",
    " = \\frac{2 - 1 - e^{-2 Z}}{1 + e^{-2 Z}} \\\\\n",
    "&= 2 \\sigma(2 Z) - 1 \\\\\n",
    "\\frac{\\partial \\tanh(Z)}{\\partial Z}\n",
    "&= \\frac{\\cosh^2(Z) - \\sinh^2(z)}{\\cosh^2(Z)} \\\\\n",
    "&= 1 - \\tanh^2(Z)\n",
    "\\end{split}"
   ]
  },
  {
   "cell_type": "code",
   "execution_count": 3,
   "metadata": {
    "collapsed": false
   },
   "outputs": [
    {
     "data": {
      "image/png": "[encoded data removed]",
      "text/plain": [
       "<matplotlib.figure.Figure at 0x7ff733a8d668>"
      ]
     },
     "metadata": {},
     "output_type": "display_data"
    }
   ],
   "source": [
    "# sigmoid function\n",
    "def sig(Z): return 1/(1 + np.exp(-Z))\n",
    "def dsig(Z): return sig(Z)*(1 - sig(Z))\n",
    "\n",
    "\n",
    "# hyperbolic tan function\n",
    "def tanh(Z): return np.tanh(Z)\n",
    "def dtanh(Z): return 1 - tanh(Z)**2\n",
    "\n",
    "\n",
    "# let's see what these functions looks like\n",
    "Z = np.arange(-10.0, 10.0, 0.01)\n",
    "plt.plot(Z, sig(Z), 'k', label='sigmoid(Z)')\n",
    "plt.plot(Z, tanh(Z), 'k:', label='tanh(Z)')\n",
    "plt.legend(loc='upper left')\n",
    "plt.xlabel('Z')\n",
    "plt.ylabel('f(Z)')\n",
    "plt.show()"
   ]
  },
  {
   "cell_type": "markdown",
   "metadata": {},
   "source": [
    "<h4>Soft max</h4>\n",
    "\n",
    "\\begin{split}\n",
    "s(Z_{mn}) &= \\frac{\\exp(Z_{mn})}{\\sum_{i = 1}^M \\exp(Z_{in})} \\\\\n",
    "\\frac{\\partial s(Z_{mn})}{\\partial Z_{mn}}\n",
    "&= \\frac{\\partial}{\\partial Z_{mn}} \\frac{\\exp(Z_{mn})}{\\sum_{i = 1}^M \\exp(Z_{in})} \\\\\n",
    "&= \\frac{\\exp(Z_{mn})}{\\sum_{i = 1}^M \\exp(Z_{in})}\n",
    " - \\frac{\\exp(Z_{mn})\\sum_{i = 1}^M \\exp(Z_{in})\\delta_{im}}{\\left(\\sum_{i = 1}^M \\exp(Z_{in})\\right)^2} \\\\\n",
    "&= \\frac{\\exp(Z_{mn})}{\\sum_{i = 1}^M \\exp(Z_{in})}\n",
    " - \\frac{\\exp(Z_{mn})\\exp(Z_{mn})}{\\left(\\sum_{i = 1}^M \\exp(Z_{in})\\right)^2} \\\\\n",
    "&= s(Z_{mn})(1 - s(Z_{mn}))\n",
    "\\end{split}"
   ]
  },
  {
   "cell_type": "code",
   "execution_count": 4,
   "metadata": {
    "collapsed": true
   },
   "outputs": [],
   "source": [
    "# soft max\n",
    "def soft_max(Z):\n",
    "    temp = np.exp(Z)\n",
    "    return temp / np.sum(temp, axis=0, keepdims=True)\n",
    "\n",
    "def dsoft_max(Z):\n",
    "    temp = soft_max(Z)\n",
    "    return temp*(1 - temp)"
   ]
  },
  {
   "cell_type": "markdown",
   "metadata": {},
   "source": [
    "<h4>Forward propagation and linear function</h4>\n",
    "\n",
    "<p>Let us see what happends if the second layer's function is linear.  That is, $g2(Z2_{mn}) = \\omega Z2_{mn} + \\beta$.  One can show</p>\n",
    "\n",
    "\\begin{split}\n",
    "Z1_{mn} &= \\sum_{i=1}^{M0} W10_{mi} A0_{in} + b1_m \\\\\n",
    "A1_{mn} &= g1(Z1_{mn}) \\\\\n",
    "\\\\\n",
    "Z3_{mn} &= \\sum_{i=1}^{M1} W31'_{mi} A1_{in} + b3'_m \\\\\n",
    "A3_{mn} &= g3(Z3_{mn}) \\\\\n",
    "\\end{split}\n",
    "\n",
    "where\n",
    "\n",
    "\\begin{split}\n",
    "W31'_{mm'} &= \\sum_{i=1}^{M2} \\omega W32_{mi}W21_{im'} \\\\\n",
    "b3'_m &= \\sum_{i=1}^{M2} \\omega W32_{mi} b2_{i} + \\sum_{i=1}^{M2} \\beta W32_{mi} + b3_m \\\\\n",
    "\\end{split}\n",
    "\n",
    "We see that the second and third layers have collapsed into a single layer.  Hence, using linear functions is not a useful thing to do.\n"
   ]
  },
  {
   "cell_type": "markdown",
   "metadata": {},
   "source": [
    "<h3>The cost function</h3>\n",
    "\n",
    "<p>This is the error function or the cost function.</p>\n",
    "\n",
    "\\begin{gather}\n",
    "J = \\frac{1}{N} \\sum_{i}^{M3} \\sum_{j}^N F(Y_{ij}, A3_{ij})\n",
    "\\end{gather}"
   ]
  },
  {
   "cell_type": "code",
   "execution_count": 5,
   "metadata": {
    "collapsed": false
   },
   "outputs": [],
   "source": [
    "# calculate cost\n",
    "def calc_cost(F, Y, B, N):\n",
    "    J = np.sum(F(Y, B))/N\n",
    "    return J"
   ]
  },
  {
   "cell_type": "code",
   "execution_count": 6,
   "metadata": {
    "collapsed": true
   },
   "outputs": [],
   "source": [
    "# DEFINE MORE MATH FUNCTIONS\n",
    "\n",
    "\n",
    "# log probability\n",
    "# this function will be used to calculate cost and will involeve a sum\n",
    "# it's used instead of the square quadratic fuction popular in the past\n",
    "# because it's convex\n",
    "# note it's a function of two variables and the deriavative is with respect to B\n",
    "def log_prob(Y, B): return -(Y*np.log(B) + (1 - Y)*np.log(1 - B))\n",
    "def dlog_prob(Y, B): return -(Y/B - (1 - Y)/(1 - B))\n",
    "\n",
    "\n",
    "def cross_entropy(Y, B): return -Y*np.log(B)\n",
    "def dcross_entropy(Y, B): return -Y/B\n",
    "\n",
    "\n",
    "def quad(Y, B): return (B - Y)**2/2\n",
    "def dquad(Y, B): return (B - Y)\n",
    "\n",
    "\n",
    "# normalize each row such that the mean is zero and\n",
    "# the standard deviation is one\n",
    "# this is a preprocessing routine\n",
    "# (note that I have not used this function)\n",
    "def define_normalize(X):\n",
    "    means = np.mean(X, axis=1, keepdims=True)\n",
    "    stds = np.std(X, axis=1, keepdims=True)\n",
    "    def normalize_data(X):\n",
    "        return (X - means)/stds\n",
    "    return normalize_data"
   ]
  },
  {
   "cell_type": "markdown",
   "metadata": {},
   "source": [
    "<h3>Back propagation</h3>\n",
    "\n",
    "<h4>Layer gradients</h4>\n",
    "\n",
    "There are two steps.  First calculate cost gradients.  The first three equations are derived in Appendix A, B, and C.  There remaining equations following similarly.\n",
    "\n",
    "\\begin{split}\n",
    "\\frac{\\partial J}{\\partial A3_{mn}}\n",
    "&= \\frac{1}{N} \\frac{\\partial F}{\\partial A3_{mn}} \\\\\n",
    "\\frac{\\partial J}{\\partial Z3_{mn}}\n",
    "&= \\frac{\\partial J}{\\partial A3_{mn}}\\frac{\\partial g3}{\\partial Z3_{mn}} \\\\\n",
    "\\\\\n",
    "\\frac{\\partial J}{\\partial A2_{mn}}\n",
    "&= \\sum_{i=1}^{M3}W32^T_{mi}\\frac{\\partial J}{\\partial Z3_{in}} \\\\\n",
    "\\frac{\\partial J}{\\partial Z2_{mn}}\n",
    "&= \\frac{\\partial J}{\\partial A2_{mn}}\\frac{\\partial g2}{\\partial Z2_{mn}} \\\\\n",
    "\\\\\n",
    "\\frac{\\partial J}{\\partial A1_{mn}}\n",
    "&= \\sum_{i=1}^{M2}W21^T_{mi}\\frac{\\partial J}{\\partial Z2_{in}} \\\\\n",
    "\\frac{\\partial J}{\\partial Z1_{mn}}\n",
    "&= \\frac{\\partial J}{\\partial A1_{mn}}\\frac{\\partial g1}{\\partial Z1_{mn}} \\\\\n",
    "\\end{split}\n",
    "\n",
    "<p>Let us vectorize and simplify notation.  The center dot is a matrix product.  The lower dot is a element-wise product.</p>\n",
    "\n",
    "\\begin{split}\n",
    "\\underbrace{dA3}_{M3 \\times N} &= \\tfrac{1}{N} \\underbrace{dF}_{M3 \\times N} \\\\\n",
    "\\underbrace{dZ3}_{M3 \\times N} &= \\underbrace{dA3}_{M3 \\times N} . dg3(\\underbrace{Z3}_{M3 \\times N}) \\\\\n",
    "\\\\\n",
    "\\underbrace{dA2}_{M2 \\times N} &= \\underbrace{W32^T}_{M2 \\times M3} \\cdot \\underbrace{dZ3}_{M3 \\times N} \\\\\n",
    "\\underbrace{dZ2}_{M2 \\times N} &= \\underbrace{dA2}_{M2 \\times N} . dg2(\\underbrace{Z2}_{M2 \\times N}) \\\\\n",
    "\\\\\n",
    "\\underbrace{dA1}_{M1 \\times N} &= \\underbrace{W21^T}_{M1 \\times M2} \\cdot \\underbrace{dZ2}_{M2 \\times N} \\\\\n",
    "\\underbrace{dZ1}_{M1 \\times N} &= \\underbrace{dA1}_{M1 \\times N} . dg1(\\underbrace{Z1}_{M1 \\times N}) \\\\\n",
    "\\end{split}"
   ]
  },
  {
   "cell_type": "code",
   "execution_count": 7,
   "metadata": {
    "collapsed": true
   },
   "outputs": [],
   "source": [
    "# calculate layer gradients\n",
    "def calc_layer_grads(C, dF, dg, Y, N, B, Z, W):\n",
    "    dA = [0]*C\n",
    "    dZ = [0]*C\n",
    "    \n",
    "    dA[C - 1] = dF(Y, B)/N\n",
    "    dZ[C - 1] = dA[C - 1]*dg[C - 1](Z[C - 1])\n",
    "    \n",
    "    for c in reversed(range(C - 1)):\n",
    "        dA[c] = np.dot(W[c + 1].T, dZ[c + 1]) \n",
    "        dZ[c] = dA[c]*dg[c](Z[c])\n",
    "    return dZ"
   ]
  },
  {
   "cell_type": "markdown",
   "metadata": {
    "collapsed": true
   },
   "source": [
    "<h4>Weight gradients</h4>\n",
    "\n",
    "<p>The derivations for the last two equations are found in Appendix D and E.</p>\n",
    "\n",
    "\\begin{split}\n",
    "\\frac{\\partial J}{\\partial W10_{mm'}}\n",
    "&= \\sum_{j=1}^{N}\\frac{\\partial J}{\\partial Z1_{mj}} A0^T_{jm'} \\\\\n",
    "\\frac{\\partial J}{\\partial b1_{m}}\n",
    "&= \\sum_{j=1}^{N}\\frac{\\partial J}{\\partial Z1_{mj}} \\\\\n",
    "\\\\\n",
    "\\frac{\\partial J}{\\partial W21_{mm'}}\n",
    "&= \\sum_{j=1}^{N}\\frac{\\partial J}{\\partial Z2_{mj}} A1^T_{jm'} \\\\\n",
    "\\frac{\\partial J}{\\partial b2_{m}}\n",
    "&= \\sum_{j=1}^{N}\\frac{\\partial J}{\\partial Z2_{mj}} \\\\\n",
    "\\\\\n",
    "\\frac{\\partial J}{\\partial W32_{mm'}}\n",
    "&= \\sum_{j=1}^{N}\\frac{\\partial J}{\\partial Z3_{mj}} A2^T_{jm'} \\\\\n",
    "\\frac{\\partial J}{\\partial b3_{m}}\n",
    "&= \\sum_{j=1}^{N}\\frac{\\partial J}{\\partial Z3_{mj}} \\\\\n",
    "\\end{split}\n",
    "\n",
    "<p>Let us vectorize.</p>\n",
    "\n",
    "\\begin{split}\n",
    "\\underbrace{dW10}_{M1 \\times M0} &= \\underbrace{dZ1}_{M1 \\times N} \\cdot \\underbrace{A0^T}_{N \\times M0} \\\\\n",
    "\\underbrace{db1}_{M1 \\times 1} &= \\underbrace{dZ1}_{M1 \\times N} \\cdot \\underbrace{1}_{N \\times 1} \\\\\n",
    "\\\\\n",
    "\\underbrace{dW21}_{M2 \\times M1} &= \\underbrace{dZ2}_{M2 \\times N} \\cdot \\underbrace{A1^T}_{N \\times M1} \\\\\n",
    "\\underbrace{db2}_{M2 \\times 1} &= \\underbrace{dZ2}_{M2 \\times N} \\cdot \\underbrace{1}_{N \\times 1} \\\\\n",
    "\\\\\n",
    "\\underbrace{dW32}_{M3 \\times M2} &= \\underbrace{dZ3}_{M3 \\times N} \\cdot \\underbrace{A2^T}_{N \\times M2} \\\\\n",
    "\\underbrace{db3}_{M3 \\times 1} &= \\underbrace{dZ3}_{M3 \\times N} \\cdot \\underbrace{1}_{N \\times 1} \\\\\n",
    "\\end{split}"
   ]
  },
  {
   "cell_type": "code",
   "execution_count": 8,
   "metadata": {
    "collapsed": true
   },
   "outputs": [],
   "source": [
    "# dW = [dW10, dW21, dW32] when C = 3\n",
    "# db = [db1,  db2,  db3 ] when C = 3\n",
    "# calculate weight gradients\n",
    "def calc_weight_grads(C, dF, dg, Y, N, A, Z, W):\n",
    "    dZ = calc_layer_grads(C, dF, dg, Y, N, A[C], Z, W)\n",
    "    \n",
    "    dW = [0]*C\n",
    "    db = [0]*C\n",
    "    \n",
    "    for c in range(C):\n",
    "        dW[c] = np.dot(dZ[c], A[c].T)\n",
    "        db[c] = np.sum(dZ[c], axis=1, keepdims=True)\n",
    "    return dW, db"
   ]
  },
  {
   "cell_type": "markdown",
   "metadata": {},
   "source": [
    "<h4>Appendix A</h4>\n",
    "\n",
    "\\begin{split}\n",
    "\\frac{\\partial J}{\\partial A3_{mn}}\n",
    "&= \\frac{1}{N} \\sum_{i=1}^{M3} \\sum_{j=1}^N \\frac{\\partial F}{\\partial A3_{ij}}\n",
    "   \\frac{\\partial A3_{ij}}{\\partial A3_{mn}} \\\\\n",
    "&= \\frac{1}{N} \\sum_{i=1}^{M3} \\sum_{j=1}^N \\frac{\\partial F}{\\partial A3_{ij}}\n",
    "   \\delta_{im}\\delta_{jn} \\\\\n",
    "&= \\frac{1}{N} \\frac{\\partial F}{\\partial A3_{mn}} \\\\\n",
    "\\end{split}\n",
    "\n",
    "<h4>Appendix B</h4>\n",
    "\n",
    "\\begin{split}\n",
    "\\frac{\\partial J}{\\partial Z3_{mn}}\n",
    "&= \\sum_{i=1}^{M3}\\sum_{j=1}^N\\frac{\\partial J}{\\partial A3_{ij}}\\frac{\\partial A3_{ij}}{\\partial Z3_{mn}} \\\\\n",
    "&= \\sum_{i=1}^{M3}\\sum_{j=1}^N\\frac{\\partial J}{\\partial A3_{ij}}\n",
    "\\frac{\\partial}{\\partial Z3_{mn}} g3(Z3_{ij}) \\\\\n",
    "&= \\sum_{i=1}^{M3}\\sum_{j=1}^N\\frac{\\partial J}{\\partial A3_{ij}}\n",
    "\\frac{\\partial g3}{\\partial Z3_{ij}} \\delta_{im}\\delta_{jn} \\\\\n",
    "&= \\frac{\\partial J}{\\partial A3_{mn}}\\frac{\\partial g3}{\\partial Z3_{mn}} \\\\\n",
    "\\end{split}\n",
    "\n",
    "<h4>Appendix C</h4>\n",
    "\n",
    "\\begin{split}\n",
    "\\frac{\\partial J}{\\partial A2_{mn}}\n",
    "&= \\sum_{i=1}^{M3}\\sum_{j=1}^N\\frac{\\partial J}{\\partial Z3_{ij}}\\frac{\\partial Z3_{ij}}{\\partial A2_{mn}} \\\\\n",
    "&= \\sum_{i=1}^{M3}\\sum_{j=1}^N\\frac{\\partial J}{\\partial Z3_{ij}}\\frac{\\partial}{\\partial A2_{mn}}\n",
    "\\left(\\sum_{i'=1}^{M2} W32_{ii'} A2_{i'j} + b3_i \\right) \\\\\n",
    "&= \\sum_{i=1}^{M3}\\sum_{j=1}^N\\frac{\\partial J}{\\partial Z3_{ij}}\n",
    "\\sum_{i'=1}^{M2} W32_{ii'} \\delta_{i'm}\\delta_{jn} \\\\\n",
    "&= \\sum_{i=1}^{M3}\\frac{\\partial J}{\\partial Z3_{in}} W32_{im} \\\\\n",
    "&= \\sum_{i=1}^{M3}W32^T_{mi}\\frac{\\partial J}{\\partial Z3_{in}} \\\\\n",
    "\\end{split}\n",
    "\n",
    "<h4>Appendix D</h4>\n",
    "\n",
    "\\begin{split}\n",
    "\\frac{\\partial J}{\\partial W32_{mm'}}\n",
    "&= \\sum_{i=1}^{M3}\\sum_{j=1}^N\\frac{\\partial J}{\\partial Z3_{ij}}\\frac{\\partial Z3_{ij}}{\\partial W32_{ii'}} \\\\\n",
    "&= \\sum_{i=1}^{M3}\\sum_{j=1}^N\\frac{\\partial J}{\\partial Z3_{ij}}\\frac{\\partial}{\\partial W32_{ii'}}\n",
    "\\left(\\sum_{i'=1}^{M2}W32_{ii'}A2_{i'j} + b3_i\\right) \\\\\n",
    "&= \\sum_{i=1}^{M3}\\sum_{j=1}^N\\frac{\\partial J}{\\partial Z3_{ij}}\n",
    "\\sum_{i'}^{M2}\\delta_{im}\\delta_{i'm'}A2_{i'j} \\\\\n",
    "&= \\sum_{j=1}^N\\frac{\\partial J}{\\partial Z3_{mj}} A2_{m'j} \\\\\n",
    "&= \\sum_{j=1}^N\\frac{\\partial J}{\\partial Z3_{mj}} A2^T_{jm'} \\\\\n",
    "\\end{split}\n",
    "\n",
    "<h4>Appendix E</h4>\n",
    "\n",
    "\\begin{split}\n",
    "\\frac{\\partial J}{\\partial b3_{m}}\n",
    "&= \\sum_{i=1}^{M3}\\sum_{j=1}^N\\frac{\\partial J}{\\partial Z3_{ij}}\\frac{\\partial Z3_{ij}}{\\partial b3_m} \\\\\n",
    "&= \\sum_{i=1}^{M3}\\sum_{j=1}^N\\frac{\\partial J}{\\partial Z3_{ij}}\\frac{\\partial}{\\partial b3_m}\n",
    "\\left(\\sum_{i'=1}^{M2}W32_{ii'}A2_{i'j} + b3_i \\right) \\\\\n",
    "&= \\sum_{i=1}^{M3}\\sum_{j=1}^N\\frac{\\partial J}{\\partial Z3_{ij}}\\delta_{im} \\\\\n",
    "&= \\sum_{j=1}^N\\frac{\\partial J}{\\partial Z3_{mj}} \\\\\n",
    "\\end{split}"
   ]
  },
  {
   "cell_type": "markdown",
   "metadata": {},
   "source": [
    "<h4>Update weights</h4>"
   ]
  },
  {
   "cell_type": "code",
   "execution_count": 9,
   "metadata": {
    "collapsed": true
   },
   "outputs": [],
   "source": [
    "# update weights\n",
    "def update_weights(C, W, b, dW, db, alpha):\n",
    "    for c in range(C):\n",
    "        W[c] = W[c] - alpha*dW[c]\n",
    "        b[c] = b[c] - alpha*db[c]\n",
    "    return W, b"
   ]
  },
  {
   "cell_type": "markdown",
   "metadata": {},
   "source": [
    "<h3>Gradient checking</h3>"
   ]
  },
  {
   "cell_type": "code",
   "execution_count": 10,
   "metadata": {
    "collapsed": true
   },
   "outputs": [],
   "source": [
    "# calculate weights numerically\n",
    "def calc_weight_grads_num(C, M, F, g, X, Y, N, W, b, epsilon):\n",
    "    A, Z = prop_forward(C, g, X, W, b)\n",
    "    J0 = calc_cost(F, Y, A[C], N)\n",
    "\n",
    "    dW_num = [0]*C\n",
    "    db_num = [0]*C\n",
    "    \n",
    "    for c in range(C):\n",
    "        dW_num[c] = np.zeros([M[c + 1], M[c]])\n",
    "        db_num[c] = np.zeros([M[c + 1], 1])\n",
    "\n",
    "        for m in range(M[c + 1]):\n",
    "            temp = b[c][m, 0]\n",
    "            b[c][m, 0] = temp + epsilon\n",
    "            A, Z = prop_forward(C, g, X, W, b)\n",
    "            J1 = calc_cost(F, Y, A[C], N)\n",
    "            b[c][m, 0] = temp\n",
    "            \n",
    "            db_num[c][m, 0] = (J1 - J0)/epsilon\n",
    "            \n",
    "            for m_prime in range(M[c]):            \n",
    "                temp = W[c][m, m_prime]\n",
    "                W[c][m, m_prime] = temp + epsilon\n",
    "                A, Z = prop_forward(C, g, X, W, b)\n",
    "                J1 = calc_cost(F, Y, A[C], N)\n",
    "                W[c][m, m_prime] = temp\n",
    "                \n",
    "                dW_num[c][m, m_prime] = (J1 - J0)/epsilon\n",
    "\n",
    "    return dW_num, db_num\n",
    "\n",
    "\n",
    "def calc_weight_grads_error(C, M, F, dF, g, dg, X, Y, N, W, b, epsilon):\n",
    "    dW_num, db_num = calc_weight_grads_num(C, M, F, g, X, Y, N, W, b, epsilon)\n",
    "    A, Z = prop_forward(C, g, X, W, b)\n",
    "    dW, db = calc_weight_grads(C, dF, dg, Y, N, A, Z, W)\n",
    "\n",
    "    dW_error = [0]*C\n",
    "    db_error = [0]*C\n",
    "    \n",
    "    for c in range(C):\n",
    "        dW_error[c] = 2*(dW[c] - dW_num[c])/(dW[c] + dW_num[c])*100*1000\n",
    "        db_error[c] = 2*(db[c] - db_num[c])/(db[c] + db_num[c])*100*1000\n",
    "        \n",
    "    return dW_error, db_error"
   ]
  },
  {
   "cell_type": "markdown",
   "metadata": {},
   "source": [
    "<h3>Train</h3>"
   ]
  },
  {
   "cell_type": "code",
   "execution_count": 11,
   "metadata": {
    "collapsed": true
   },
   "outputs": [],
   "source": [
    "# learn the weights\n",
    "def train(C, N, F, dF, g, dg, X, Y, W, b, alpha, T, t_step):\n",
    "    t_list = []\n",
    "    J_list = []\n",
    "    print(\"{:<10}{}\".format(\"t =\", \"J =\"))\n",
    "    \n",
    "    for t in range(T):\n",
    "        A, Z = prop_forward(C, g, X, W, b)\n",
    "        J = calc_cost(F, Y, A[C], N)\n",
    "        dW, db = calc_weight_grads(C, dF, dg, Y, N, A, Z, W)\n",
    "        W, b = update_weights(C, W, b, dW, db, alpha)\n",
    "        \n",
    "        t_list.append(t)\n",
    "        J_list.append(J)\n",
    "        if t%t_step == 0:\n",
    "            print(\"{:<10}{:<.6f}\".format(t, J))\n",
    "\n",
    "    A, Z = prop_forward(C, g, X, W, b)\n",
    "    J = calc_cost(F, Y, A[-1], N)\n",
    "            \n",
    "    t_list.append(T)\n",
    "    J_list.append(J)\n",
    "    print(\"{:<10}{:<.6f}\".format(T, J))\n",
    "    \n",
    "    plt.plot(t_list, J_list)\n",
    "    plt.xlabel('t')\n",
    "    plt.ylabel('J')\n",
    "    plt.show()\n",
    "\n",
    "    return W, b"
   ]
  },
  {
   "cell_type": "markdown",
   "metadata": {},
   "source": [
    "<h3>Helper routines</h3>"
   ]
  },
  {
   "cell_type": "code",
   "execution_count": 12,
   "metadata": {
    "collapsed": true
   },
   "outputs": [],
   "source": [
    "def print_matricies(C, A, decimals):\n",
    "    for a in range(0, C):\n",
    "        print(np.round(A[a], decimals))\n",
    "        print()"
   ]
  },
  {
   "cell_type": "markdown",
   "metadata": {},
   "source": [
    "<h3>Main</h3>"
   ]
  },
  {
   "cell_type": "code",
   "execution_count": 13,
   "metadata": {
    "collapsed": false,
    "scrolled": false
   },
   "outputs": [
    {
     "name": "stdout",
     "output_type": "stream",
     "text": [
      "[[ 0.3   0.08 -0.12]\n",
      " [-0.11  0.98  0.44]\n",
      " [ 0.34  1.51 -1.56]]\n",
      "\n",
      "[[-0.1  -0.29 -0.23]\n",
      " [ 0.46  0.36  0.5 ]]\n",
      "\n",
      "t =       J =\n",
      "0         0.250005\n",
      "10000     0.000902\n",
      "20000     0.000348\n",
      "30000     0.000213\n",
      "40000     0.000152\n",
      "50000     0.000118\n",
      "60000     0.000097\n",
      "70000     0.000082\n",
      "80000     0.000071\n",
      "90000     0.000062\n",
      "100000    0.000055\n"
     ]
    },
    {
     "data": {
      "image/png": "[encoded data removed]",
      "text/plain": [
       "<matplotlib.figure.Figure at 0x7ff733a8dac8>"
      ]
     },
     "metadata": {},
     "output_type": "display_data"
    },
    {
     "name": "stdout",
     "output_type": "stream",
     "text": [
      "[[ 0.  1.  0.  0.  1.  1.  0.  1.]\n",
      " [ 0.  0.  1.  0.  1.  0.  1.  1.]\n",
      " [ 0.  0.  0.  1.  0.  1.  1.  1.]]\n",
      "\n",
      "[[ 0.91  0.04  0.04  0.04  0.    0.    0.    0.  ]\n",
      " [ 1.    0.96  0.96  0.96  0.02  0.02  0.02  0.  ]\n",
      " [ 0.    0.    0.    0.    0.1   0.1   0.1   0.86]]\n",
      "\n",
      "[[ 0.    0.01  0.01  0.01  0.99  0.99  0.99  1.  ]\n",
      " [ 0.01  0.99  0.99  0.99  0.01  0.01  0.01  0.99]]\n",
      "\n"
     ]
    }
   ],
   "source": [
    "# define the data\n",
    "X = np.array([[0., 1., 0., 0., 1., 1., 0., 1.],\n",
    "              [0., 0., 1., 0., 1., 0., 1., 1.],\n",
    "              [0., 0., 0., 1., 0., 1., 1., 1.]])\n",
    "\n",
    "Y = np.array([[0., 0., 0., 0., 1., 1., 1., 1.],\n",
    "              [0., 1., 1., 1., 0., 0., 0., 1.]])\n",
    "\n",
    "\n",
    "# define hyper parameters\n",
    "M0, N = X.shape\n",
    "MC, N = Y.shape\n",
    "\n",
    "M  = [M0] + [3] + [MC]\n",
    "C  = len(M) - 1\n",
    "\n",
    "\n",
    "F  = quad\n",
    "dF = dquad\n",
    "g  = [sig,  sig]\n",
    "dg = [dsig, dsig]\n",
    "\n",
    "W, b = init_weights(C, M)\n",
    "\n",
    "epsilon = 1e-7\n",
    "dW_error, db_error = calc_weight_grads_error(C, M, F, dF, g, dg, X, Y, N, W, b, epsilon)\n",
    "\n",
    "print_matricies(C, dW_error, 2)\n",
    "\n",
    "T = 100000\n",
    "t_step = 10000\n",
    "alpha = 1\n",
    "\n",
    "W, b = train(C, N, F, dF, g, dg, X, Y, W, b, alpha, T, t_step)\n",
    "\n",
    "A, Z = prop_forward(2, g, X, W, b)\n",
    "print_matricies(C + 1, A, 2)"
   ]
  },
  {
   "cell_type": "code",
   "execution_count": 14,
   "metadata": {
    "collapsed": false
   },
   "outputs": [
    {
     "name": "stdout",
     "output_type": "stream",
     "text": [
      "[[-5.48 -5.48 -5.48]\n",
      " [-6.92 -6.92 -6.92]\n",
      " [ 4.04  4.04  4.04]]\n",
      "\n",
      "[[ -3.09 -10.48   2.89]\n",
      " [-11.4   11.91  12.37]]\n",
      "\n",
      "[[  2.34]\n",
      " [ 10.05]\n",
      " [-10.32]]\n",
      "\n",
      "[[ 4.96]\n",
      " [-6.13]]\n",
      "\n"
     ]
    }
   ],
   "source": [
    "print_matricies(C, W, 2)\n",
    "print_matricies(C, b, 2)"
   ]
  },
  {
   "cell_type": "code",
   "execution_count": 15,
   "metadata": {
    "collapsed": false
   },
   "outputs": [
    {
     "name": "stdout",
     "output_type": "stream",
     "text": [
      "[[ 0.04  0.03 -0.  ]\n",
      " [ 0.01 -0.01 -0.02]\n",
      " [ 0.01 -0.    0.01]]\n",
      "\n",
      "[[ 0.    0.01 -0.  ]\n",
      " [-0.   -0.09  0.01]]\n",
      "\n",
      "t =       J =\n",
      "0         0.499885\n",
      "1000      0.143061\n",
      "2000      0.072055\n",
      "3000      0.008629\n",
      "4000      0.003238\n",
      "5000      0.001854\n",
      "6000      0.001260\n",
      "7000      0.000939\n",
      "8000      0.000739\n",
      "9000      0.000605\n",
      "10000     0.000509\n"
     ]
    },
    {
     "data": {
      "image/png": "[encoded data removed]",
      "text/plain": [
       "<matplotlib.figure.Figure at 0x7ff731342b00>"
      ]
     },
     "metadata": {},
     "output_type": "display_data"
    },
    {
     "name": "stdout",
     "output_type": "stream",
     "text": [
      "[[ 0.  1.  0.  0.  1.  1.  0.  1.]\n",
      " [ 0.  0.  1.  0.  1.  0.  1.  1.]\n",
      " [ 0.  0.  0.  1.  0.  1.  1.  1.]]\n",
      "\n",
      "[[ 0.84  0.52  0.52  0.52 -0.05 -0.05 -0.05 -0.59]\n",
      " [-0.36  0.33  0.35  0.34  0.79  0.79  0.8   0.95]\n",
      " [-1.   -0.8  -0.79 -0.79  0.89  0.89  0.9   1.  ]]\n",
      "\n",
      "[[-0.    0.    0.    0.    0.99  0.99  0.99  0.99]\n",
      " [ 0.    0.97  0.97  0.97  0.    0.    0.    0.94]]\n",
      "\n"
     ]
    }
   ],
   "source": [
    "# define the data\n",
    "X = np.array([[0., 1., 0., 0., 1., 1., 0., 1.],\n",
    "              [0., 0., 1., 0., 1., 0., 1., 1.],\n",
    "              [0., 0., 0., 1., 0., 1., 1., 1.]])\n",
    "\n",
    "Y = np.array([[0., 0., 0., 0., 1., 1., 1., 1.],\n",
    "              [0., 1., 1., 1., 0., 0., 0., 1.]])\n",
    "\n",
    "\n",
    "# define hyper parameters\n",
    "M0, N = X.shape\n",
    "MC, N = Y.shape\n",
    "\n",
    "M  = [M0] + [3] + [MC]\n",
    "C  = len(M) - 1\n",
    "\n",
    "\n",
    "F  = quad\n",
    "dF = dquad\n",
    "g  = [tanh,  tanh]\n",
    "dg = [dtanh, dtanh]\n",
    "\n",
    "W, b = init_weights(C, M)\n",
    "\n",
    "epsilon = 1e-7\n",
    "dW_error, db_error = calc_weight_grads_error(C, M, F, dF, g, dg, X, Y, N, W, b, epsilon)\n",
    "\n",
    "print_matricies(C, dW_error, 2)\n",
    "\n",
    "T = 10000\n",
    "t_step = 1000\n",
    "alpha = 0.1\n",
    "\n",
    "W, b = train(C, N, F, dF, g, dg, X, Y, W, b, alpha, T, t_step)\n",
    "\n",
    "A, Z = prop_forward(2, g, X, W, b)\n",
    "print_matricies(C + 1, A, 2)"
   ]
  },
  {
   "cell_type": "code",
   "execution_count": 16,
   "metadata": {
    "collapsed": false
   },
   "outputs": [
    {
     "data": {
      "text/plain": [
       "[array([[-0.63065687, -0.62684918, -0.62929387],\n",
       "        [ 0.71884773,  0.73808477,  0.72586269],\n",
       "        [ 2.5235472 ,  2.53326067,  2.52714088]]),\n",
       " array([[ 0.23988472, -0.37746641,  1.66765477],\n",
       "        [-3.03894697,  2.38154513, -2.87228594]])]"
      ]
     },
     "execution_count": 16,
     "metadata": {},
     "output_type": "execute_result"
    }
   ],
   "source": [
    "W"
   ]
  },
  {
   "cell_type": "code",
   "execution_count": 17,
   "metadata": {
    "collapsed": false
   },
   "outputs": [
    {
     "data": {
      "text/plain": [
       "[array([[ 1.20597612],\n",
       "        [-0.37361556],\n",
       "        [-3.61180881]]), array([[ 1.32894185],\n",
       "        [ 0.52461551]])]"
      ]
     },
     "execution_count": 17,
     "metadata": {},
     "output_type": "execute_result"
    }
   ],
   "source": [
    "b"
   ]
  },
  {
   "cell_type": "markdown",
   "metadata": {},
   "source": [
    "<h4>Soft max</h4>\n",
    "\n",
    "\\begin{split}\n",
    "s(Z) &= \\frac{\\exp(Z_{mn})}{\\sum_{i = 1}^M \\exp(Z_{in})} \\\\\n",
    "\\end{split}\n",
    "\n",
    "\n",
    "<h4>Cross entropy</h4>\n",
    "\n",
    "\\begin{split}\n",
    "H(Y, B) = - Y . \\log(B)\n",
    "\\end{split}\n",
    "\n",
    "Let us assume that the last layer is a soft max and the cost is cross entropy.  If there were three layers,\n",
    "\n",
    "\\begin{split}\n",
    "A3_{mn} &= \\frac{\\exp(Z3_{mn})}{\\sum_{i = 1}^{M3} \\exp(Z3_{in})} \\\\\n",
    "\\end{split}\n",
    "\n",
    "\\begin{split}\n",
    "F(Y, A3) = - Y . \\log(A3)\n",
    "\\end{split}\n",
    "\n",
    "The cost is then\n",
    "\n",
    "\\begin{split}\n",
    "J &= \\frac{1}{N} \\sum_{i}^{M3} \\sum_{j}^N F(Y_{ij}, A3_{ij}) \\\\\n",
    "&= - \\frac{1}{N} \\sum_{i}^{M3} \\sum_{j}^N Y_{ij} \\log(A3_{ij}) \\\\\n",
    "&= - \\frac{1}{N} \\sum_{i}^{M3} \\sum_{j}^N Y_{ij} \\log \\left( \\frac{\\exp(Z3_{ij})}\n",
    "     {\\sum_{i' = 1}^{M3} \\exp(Z3_{i'n})} \\right) \\\\\n",
    "&= - \\frac{1}{N} \\sum_{i}^{M3} \\sum_{j}^N \\left(\n",
    "     Y_{ij} Z3_{ij} - Y_{ij} \\log \\sum_{i' = 1}^{M3} \\exp(Z3_{i'j}) \\right) \\\\\n",
    "\\end{split}\n",
    "\n",
    "Now the derivative\n",
    "\n",
    "\\begin{split}\n",
    "\\frac{\\partial J}{\\partial Z3_{mn}}\n",
    "&= - \\frac{1}{N} \\sum_{i}^{M3} \\sum_{j}^N \\left(Y_{ij} \\delta_{im}\\delta_{jn} - Y_{ij}\n",
    "     \\frac{\\sum_{i' = 1}^{M3} \\exp(Z3_{i'j})\\delta_{i'm}\\delta_{jn}}{\\sum_{i' = 1}^{M3} \\exp(Z3_{i'j})} \\right) \\\\\n",
    "&= - \\frac{1}{N} \\sum_{i}^{M3} \\sum_{j}^N \\left(Y_{ij} \\delta_{im}\\delta_{jn} - Y_{ij}\n",
    "     \\frac{\\exp(Z3_{mj})\\delta_{jn}}{\\sum_{i' = 1}^{M3} \\exp(Z3_{i'j})} \\right) \\\\\n",
    "&= - \\frac{1}{N} \\sum_{i}^{M3} \\left(Y_{in} \\delta_{im} - Y_{in}\n",
    "     \\frac{\\exp(Z3_{mn})}{\\sum_{i' = 1}^{M3} \\exp(Z3_{i'n})} \\right) \\\\\n",
    "&= - \\frac{1}{N} \\sum_{i}^{M3} \\left(Y_{in} \\delta_{im} - Y_{in}\n",
    "     A3_{mn} \\right) \\\\\n",
    "&= - \\frac{1}{N} \\left(Y_{mn} - A3_{mn} \\right) \\\\\n",
    "\\end{split}\n",
    "\n",
    "where we have assumed $\\sum_{i}^{M3} Y_{in} = 1$.  In general we have the simple equation\n",
    "\n",
    "\\begin{split}\n",
    "\\frac{\\partial J}{\\partial ZC} &= \\frac{1}{N} \\left(B - Y \\right) \\\\\n",
    "\\end{split}\n"
   ]
  },
  {
   "cell_type": "markdown",
   "metadata": {},
   "source": [
    "<h4>Soft max</h4>\n",
    "\n",
    "\\begin{split}\n",
    "A3_{mn} &= \\frac{\\exp(Z3_{mn})}{\\sum_{i = 1}^M \\exp(Z3_{in})} \\\\\n",
    "\\end{split}\n",
    "\n",
    "the derivative\n",
    "\n",
    "\\begin{split}\n",
    "\\frac{\\partial A3_{mn}}{\\partial Z3_{mn}}\n",
    "&= \\frac{\\partial}{\\partial Z3_{mn}} \\frac{\\exp(Z3_{mn})}{\\sum_{i = 1}^M \\exp(Z3_{in})} \\\\\n",
    "&= \\frac{\\exp(Z3_{mn})}{\\sum_{i = 1}^M \\exp(Z3_{in})}\n",
    " - \\frac{\\exp(Z3_{mn})}{\\sum_{i = 1}^M \\exp(Z3_{in})}\\\\\n",
    "\\end{split}"
   ]
  },
  {
   "cell_type": "markdown",
   "metadata": {},
   "source": [
    "<h4>Soft max</h4>\n",
    "\n",
    "\\begin{split}\n",
    "s(Z_{mn}) &= \\frac{\\exp(Z_{mn})}{\\sum_{i = 1}^M \\exp(Z_{in})} \\\\\n",
    "\\frac{\\partial s(Z_{mn})}{\\partial Z_{mn}}\n",
    "&= \\frac{\\partial}{\\partial Z_{mn}} \\frac{\\exp(Z_{mn})}{\\sum_{i = 1}^M \\exp(Z_{in})} \\\\\n",
    "&= \\frac{\\exp(Z_{mn})}{\\sum_{i = 1}^M \\exp(Z_{in})}\n",
    " - \\frac{\\exp(Z_{mn})\\sum_{i = 1}^M \\exp(Z_{in})\\delta_{im}}{\\left(\\sum_{i = 1}^M \\exp(Z_{in})\\right)^2} \\\\\n",
    "&= \\frac{\\exp(Z_{mn})}{\\sum_{i = 1}^M \\exp(Z_{in})}\n",
    " - \\frac{\\exp(Z_{mn})\\exp(Z_{mn})}{\\left(\\sum_{i = 1}^M \\exp(Z_{in})\\right)^2} \\\\\n",
    "&= s(Z_{mn})(1 - s(Z_{mn}))\n",
    "\\end{split}"
   ]
  },
  {
   "cell_type": "code",
   "execution_count": null,
   "metadata": {
    "collapsed": true
   },
   "outputs": [],
   "source": []
  },
  {
   "cell_type": "code",
   "execution_count": 18,
   "metadata": {
    "collapsed": false
   },
   "outputs": [
    {
     "data": {
      "text/plain": [
       "array([[1, 2],\n",
       "       [3, 4],\n",
       "       [5, 8]])"
      ]
     },
     "execution_count": 18,
     "metadata": {},
     "output_type": "execute_result"
    }
   ],
   "source": [
    "Z = np.array([[1,2],[3,4],[5,8]])\n",
    "Z"
   ]
  },
  {
   "cell_type": "code",
   "execution_count": 19,
   "metadata": {
    "collapsed": false
   },
   "outputs": [
    {
     "data": {
      "text/plain": [
       "array([[ 0.01562418,  0.00242236],\n",
       "       [ 0.10354869,  0.0176206 ],\n",
       "       [ 0.11544798,  0.01995582]])"
      ]
     },
     "execution_count": 19,
     "metadata": {},
     "output_type": "execute_result"
    }
   ],
   "source": [
    "A = dsoft_max(Z)\n",
    "A"
   ]
  },
  {
   "cell_type": "markdown",
   "metadata": {},
   "source": [
    "\\begin{split}\n",
    "\\frac{d}{dx} \\log\\left(\\frac{A(x)}{B(x)}\\right)\n",
    "&= \\frac{d}{dx} \\left(\\log A(x) - \\log B(x) \\right) \\\\\n",
    "&= \\frac{A'(x)}{A(x)} - \\frac{B'(x)}{B(x)} \\\\\n",
    "\\end{split}\n",
    "\n",
    "or\n",
    "\n",
    "\\begin{split}\n",
    "\\frac{d}{dx} \\log\\left(\\frac{A(x)}{B(x)}\\right)\n",
    "&= \\frac{B(x)}{A(x)}\\frac{d}{dx}\\left(\\frac{A(x)}{B(x)}\\right) \\\\\n",
    "&= \\frac{B(x)}{A(x)}\\frac{A'(x) B(x) - A(x) B'(x)}{B(x)^2} \\\\\n",
    "&= \\frac{A'(x) B(x) - A(x) B'(x)}{A(x) B(x)} \\\\\n",
    "\\end{split}"
   ]
  },
  {
   "cell_type": "markdown",
   "metadata": {},
   "source": [
    "\\begin{split}\n",
    "J &= \\frac{1}{N} \\sum_{i=1}^M \\sum_{j=1}^N F(g(Z_{ij})) \\\\\n",
    "\\\\\n",
    "\\frac{\\partial J}{\\partial Z_{mn}}\n",
    "&= \\frac{1}{N} \\sum_{i=1}^M \\sum_{j=1}^N\n",
    "\\frac{\\partial F_{ij}}{\\partial A_{i'j'}} \\frac{\\partial A_{i'j'}}{\\partial A_{i'j'}}\n",
    "\\end{split}"
   ]
  },
  {
   "cell_type": "markdown",
   "metadata": {},
   "source": [
    "The functional notation is tricky.\n",
    "\n",
    "\\begin{split}\n",
    "A_{mn} &= g_{mn}(Z_{11}, ..., Z_{MN}) \\\\\n",
    "\\\\\n",
    "A_{mn} &= g_{mn}(Z_{11}, ..., Z_{MN})\n",
    "\\end{split}"
   ]
  },
  {
   "cell_type": "markdown",
   "metadata": {},
   "source": [
    "Functional notation\n",
    "\n",
    "\\begin{split}\n",
    "y = f(x)\n",
    "\\end{split}\n",
    "\n",
    "\\begin{split}\n",
    "y = f(x_1, ..., x_M)\n",
    "\\end{split}\n",
    "\n",
    "\\begin{split}\n",
    "y_n = f_n(x)\n",
    "\\end{split}\n",
    "\n",
    "\\begin{split}\n",
    "y_n = f_n(x_1, ..., x_M)\n",
    "\\end{split}\n",
    "\n",
    "now derivatives\n",
    "\n",
    "\\begin{split}\n",
    "\\frac{\\partial y}{\\partial x} = \\frac{\\partial f}{\\partial x}\n",
    "\\end{split}\n",
    "\n",
    "\\begin{split}\n",
    "\\frac{\\partial y}{\\partial x_m} = \\frac{\\partial f}{\\partial x_m}\n",
    "\\end{split}\n"
   ]
  },
  {
   "cell_type": "markdown",
   "metadata": {},
   "source": [
    "\\begin{split}\n",
    "J &= \\sum_{i=1}^M F(A_i) \\\\\n",
    "&= \\sum_{i=1}^M F(A_i(Z_1, ..., Z_M)) \\\\\n",
    "\\\\\n",
    "\\frac{\\partial J}{\\partial Z_m}\n",
    "&= \\sum_{i=1}^M \\frac{\\partial}{\\partial Z_m} F(A_i(Z_1, ..., Z_M)) \\\\\n",
    "&= \\sum_{i=1}^M \\frac{\\partial F}{\\partial A_i} \\frac{\\partial A_i}{\\partial Z_m} \\\\\n",
    "\\end{split}"
   ]
  },
  {
   "cell_type": "markdown",
   "metadata": {},
   "source": [
    "Functional notation, which is tricky. \n",
    "\n",
    "Let us say that we have $M$ different varibles $x_m$ and a single function.\n",
    "\n",
    "\\begin{split}\n",
    "y_n = f_n(x)\n",
    "\\end{split}\n",
    "\n",
    "\\begin{split}\n",
    "y_n = f_n(x_1, ..., x_M)\n",
    "\\end{split}\n",
    "\n"
   ]
  },
  {
   "cell_type": "markdown",
   "metadata": {},
   "source": [
    "Let us say we have $M$ different $x_m$ variables.\n",
    "\n",
    "Let us say we have $N$ different $y_n = f_n(x_1, ..., x_M)$ variables.\n",
    "\n",
    "Let us say we have $L$ different $z_l = g_l(y_1, ..., y_N)$ variables.\n",
    "\n",
    "Let us consider derivatives.\n",
    "\n",
    "\\begin{split}\n",
    "\\frac{\\partial z_l}{\\partial x_m}\n",
    "&= \\frac{\\partial}{\\partial x_m} g_l(y_1, ..., y_N) \\\\\n",
    "&= \\sum_{j=1}^N \\frac{\\partial g_l}{\\partial y_j} \\frac{\\partial f_j}{\\partial x_m}\n",
    "\\end{split}\n",
    "\n",
    "\n",
    "\n"
   ]
  },
  {
   "cell_type": "markdown",
   "metadata": {},
   "source": [
    "\\begin{split}\n",
    "J = \\frac{1}{N} \\sum_{i=1}^M \\sum_{j=1}^N\n",
    "\\end{split}"
   ]
  },
  {
   "cell_type": "code",
   "execution_count": null,
   "metadata": {
    "collapsed": true
   },
   "outputs": [],
   "source": []
  }
 ],
 "metadata": {
  "kernelspec": {
   "display_name": "Python 3",
   "language": "python",
   "name": "python3"
  },
  "language_info": {
   "codemirror_mode": {
    "name": "ipython",
    "version": 3
   },
   "file_extension": ".py",
   "mimetype": "text/x-python",
   "name": "python",
   "nbconvert_exporter": "python",
   "pygments_lexer": "ipython3",
   "version": "3.6.0"
  }
 },
 "nbformat": 4,
 "nbformat_minor": 2
}
